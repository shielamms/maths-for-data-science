{
 "cells": [
  {
   "cell_type": "markdown",
   "id": "0885b730",
   "metadata": {},
   "source": [
    "# Matrices and Matrix Operations"
   ]
  },
  {
   "cell_type": "markdown",
   "id": "76a47d7c",
   "metadata": {},
   "source": [
    "This notebook goes through the various types of matrices and operations that can be performed on them. First, we demonstrate arithmetic operations on matrices to relate them to the familiar scalar operations, then perform matrix-to-vector and matrix-to-scalar operations.\n",
    "Next, we go through some of the common types of matrices, like triangular and orthogonal matrices.\n",
    "The last part of the tutorial is an overview of matrix operations, like Inverse, Transpose, and Determinant. All samples are implemented using Numpy.\n",
    "\n",
    "The final output \"project\" of this tutorial is a simple Python implementation of the Laplace Expansion to compute for the determinant of a matrix."
   ]
  },
  {
   "cell_type": "markdown",
   "id": "6a233f9a",
   "metadata": {},
   "source": [
    "---"
   ]
  },
  {
   "cell_type": "markdown",
   "id": "46cbb9f9",
   "metadata": {},
   "source": [
    "We can think of a matrix as a two-dimensional array of rows and columns. Numpy allow us to create a matrix through its `array` module."
   ]
  },
  {
   "cell_type": "code",
   "execution_count": 1,
   "id": "ed9e52d2",
   "metadata": {},
   "outputs": [],
   "source": [
    "from numpy import array"
   ]
  },
  {
   "cell_type": "markdown",
   "id": "dc1e5296",
   "metadata": {},
   "source": [
    "## Matrix Arithmetic"
   ]
  },
  {
   "cell_type": "markdown",
   "id": "47fcac1b",
   "metadata": {},
   "source": [
    "We can perform arithmetic operations on matrices with the same dimensions. The operation is performed element-wise between the matrices."
   ]
  },
  {
   "cell_type": "markdown",
   "id": "9221010c",
   "metadata": {},
   "source": [
    "In math notation, a matrix is represented by a capital letter, like $A$. Each element of $A$ is represented by the small letter equivalent of the matrix variable, and its position in the matrix is indicated by a subscript.\n",
    "For example, $a_{1,1}$ is the element on the first row and first column of matrix $A$."
   ]
  },
  {
   "cell_type": "markdown",
   "id": "43fa7069",
   "metadata": {},
   "source": [
    "### Matrix Addition"
   ]
  },
  {
   "cell_type": "markdown",
   "id": "c6b564b7",
   "metadata": {},
   "source": [
    "Adding two matrices of the same dimensions produces a new matrix with the same dimension."
   ]
  },
  {
   "cell_type": "markdown",
   "id": "44e5286d",
   "metadata": {},
   "source": [
    "Notation: $C = A + B$"
   ]
  },
  {
   "cell_type": "markdown",
   "id": "560877f7",
   "metadata": {},
   "source": [
    "$\n",
    "C =\n",
    "\\begin{pmatrix}\n",
    "a_{1,1} + b_{1,1} & a_{1,2} + b_{1,2} & a_{1,3} + b_{1,3} \\\\\n",
    "a_{2,1} + b_{2,1} & a_{2,2} + b_{2,2} & a_{2,3} + b_{2,3}\n",
    "\\end{pmatrix}\n",
    "$"
   ]
  },
  {
   "cell_type": "code",
   "execution_count": 2,
   "id": "0dad94ec",
   "metadata": {},
   "outputs": [
    {
     "name": "stdout",
     "output_type": "stream",
     "text": [
      "[[1 2 3]\n",
      " [4 5 6]]\n"
     ]
    }
   ],
   "source": [
    "A = array([[1,2,3], [4,5,6]])\n",
    "print(A)"
   ]
  },
  {
   "cell_type": "code",
   "execution_count": 3,
   "id": "49afd0e9",
   "metadata": {},
   "outputs": [
    {
     "name": "stdout",
     "output_type": "stream",
     "text": [
      "[[1 3 5]\n",
      " [2 4 6]]\n"
     ]
    }
   ],
   "source": [
    "B = array([[1,3,5], [2,4,6]])\n",
    "print(B)"
   ]
  },
  {
   "cell_type": "code",
   "execution_count": 4,
   "id": "fa86d400",
   "metadata": {},
   "outputs": [
    {
     "name": "stdout",
     "output_type": "stream",
     "text": [
      "[[ 2  5  8]\n",
      " [ 6  9 12]]\n"
     ]
    }
   ],
   "source": [
    "C = A + B\n",
    "print(C)"
   ]
  },
  {
   "cell_type": "markdown",
   "id": "071852df",
   "metadata": {},
   "source": [
    "### Matrix Subtraction"
   ]
  },
  {
   "cell_type": "code",
   "execution_count": 5,
   "id": "96e4478c",
   "metadata": {},
   "outputs": [
    {
     "name": "stdout",
     "output_type": "stream",
     "text": [
      "[[ 0 -1 -2]\n",
      " [ 2  1  0]]\n"
     ]
    }
   ],
   "source": [
    "C = A - B\n",
    "print(C)"
   ]
  },
  {
   "cell_type": "markdown",
   "id": "0afd4f55",
   "metadata": {},
   "source": [
    "### Matrix Division"
   ]
  },
  {
   "cell_type": "code",
   "execution_count": 6,
   "id": "ed9fc32d",
   "metadata": {},
   "outputs": [
    {
     "name": "stdout",
     "output_type": "stream",
     "text": [
      "[[1.         0.66666667 0.6       ]\n",
      " [2.         1.25       1.        ]]\n"
     ]
    }
   ],
   "source": [
    "C = A / B\n",
    "print(C)"
   ]
  },
  {
   "cell_type": "markdown",
   "id": "319fe6f8",
   "metadata": {},
   "source": [
    "### Matrix Multiplication (Hadamard Product)"
   ]
  },
  {
   "cell_type": "markdown",
   "id": "4d7aa6d3",
   "metadata": {},
   "source": [
    "The Hadamard Product is the element-wise product of two matrices."
   ]
  },
  {
   "cell_type": "markdown",
   "id": "7ecb566e",
   "metadata": {},
   "source": [
    "Notation: $C = A \\circ B$"
   ]
  },
  {
   "cell_type": "markdown",
   "id": "902403e4",
   "metadata": {},
   "source": [
    "$\n",
    "C =\n",
    "\\begin{pmatrix}\n",
    "a_{1,1} \\times b_{1,1} & a_{1,2} \\times b_{1,2} & a_{1,3} \\times b_{1,3} \\\\\n",
    "a_{2,1} \\times b_{2,1} & a_{2,2} \\times b_{2,2} & a_{2,3} \\times b_{2,3}\n",
    "\\end{pmatrix}\n",
    "$"
   ]
  },
  {
   "cell_type": "code",
   "execution_count": 7,
   "id": "1ffd33a4",
   "metadata": {},
   "outputs": [
    {
     "name": "stdout",
     "output_type": "stream",
     "text": [
      "[[1 2 3]\n",
      " [4 5 6]]\n"
     ]
    }
   ],
   "source": [
    "A = array([[1,2,3], [4,5,6]])\n",
    "print(A)"
   ]
  },
  {
   "cell_type": "code",
   "execution_count": 8,
   "id": "a8cd47ec",
   "metadata": {},
   "outputs": [
    {
     "name": "stdout",
     "output_type": "stream",
     "text": [
      "[[1 3 5]\n",
      " [2 4 6]]\n"
     ]
    }
   ],
   "source": [
    "B = array([[1,3,5], [2,4,6]])\n",
    "print(B)"
   ]
  },
  {
   "cell_type": "code",
   "execution_count": 9,
   "id": "9d644bd8",
   "metadata": {},
   "outputs": [
    {
     "name": "stdout",
     "output_type": "stream",
     "text": [
      "[[ 1  6 15]\n",
      " [ 8 20 36]]\n"
     ]
    }
   ],
   "source": [
    "C = A * B\n",
    "print(C)"
   ]
  },
  {
   "cell_type": "markdown",
   "id": "a9319256",
   "metadata": {},
   "source": [
    "### Matrix Dot Product (Matrix-Matrix Multiplication)"
   ]
  },
  {
   "cell_type": "markdown",
   "id": "e11776bc",
   "metadata": {},
   "source": [
    "The Dot Product involves multiplying two matrices that are not necessarily the same dimensions, but should abide by the following rule: The number of columns of the first matrix must be equal to the number of rows in the second matrix, such that each row in the first matrix is multiplied by each column in the second matrix."
   ]
  },
  {
   "cell_type": "markdown",
   "id": "13c47b7a",
   "metadata": {},
   "source": [
    "Notation: $C = A \\cdot B$"
   ]
  },
  {
   "cell_type": "markdown",
   "id": "578885dc",
   "metadata": {},
   "source": [
    "\\begin{equation*}\n",
    "A = \n",
    "\\begin{pmatrix}\n",
    "a_{1,1} & a_{1,2} & a_{1,3} \\\\\n",
    "a_{2,1} & a_{2,2} & a_{2,3}\n",
    "\\end{pmatrix}\n",
    "\\end{equation*}\n",
    "\n",
    "\\begin{equation*}\n",
    "B = \n",
    "\\begin{pmatrix}\n",
    "b_{1,1} & b_{1,2} \\\\\n",
    "b_{2,1} & b_{2,2} \\\\\n",
    "b_{3,1} & b_{3,2} \\\\\n",
    "\\end{pmatrix}\n",
    "\\end{equation*}\n",
    "\n",
    "\\begin{equation*}\n",
    "C =\n",
    "\\begin{pmatrix}\n",
    "a_{1,1} \\times b_{1,1} + a_{1,2} \\times b_{2,1} + a_{1,3} \\times b_{3,1} && a_{1,1} \\times b_{1,2} + a_{1,2} \\times b_{2,2} + a_{1,3} \\times b_{3,2} \\\\\n",
    "a_{2,1} \\times b_{1,1} + a_{2,2} \\times b_{2,1} + a_{2,3} \\times b_{3,1} && a_{2,1} \\times b_{1,2} + a_{2,2} \\times b_{2,2} + a_{2,3} \\times b_{3,2}\n",
    "\\end{pmatrix}\n",
    "\\end{equation*}\n",
    "\n"
   ]
  },
  {
   "cell_type": "code",
   "execution_count": 19,
   "id": "c3d6e29e",
   "metadata": {},
   "outputs": [
    {
     "name": "stdout",
     "output_type": "stream",
     "text": [
      "[[1 1 1]\n",
      " [2 2 2]]\n"
     ]
    }
   ],
   "source": [
    "A = array([[1,1,1], [2,2,2]])\n",
    "print(A)"
   ]
  },
  {
   "cell_type": "code",
   "execution_count": 20,
   "id": "ae883077",
   "metadata": {},
   "outputs": [
    {
     "name": "stdout",
     "output_type": "stream",
     "text": [
      "[[1 2]\n",
      " [3 4]\n",
      " [5 6]]\n"
     ]
    }
   ],
   "source": [
    "B = array([[1,2], [3,4], [5,6]])\n",
    "print(B)"
   ]
  },
  {
   "cell_type": "code",
   "execution_count": 21,
   "id": "7543153e",
   "metadata": {},
   "outputs": [
    {
     "name": "stdout",
     "output_type": "stream",
     "text": [
      "[[ 9 12]\n",
      " [18 24]]\n"
     ]
    }
   ],
   "source": [
    "C = A.dot(B)\n",
    "print(C)"
   ]
  },
  {
   "cell_type": "code",
   "execution_count": 10,
   "id": "8a0f2e5e",
   "metadata": {},
   "outputs": [
    {
     "data": {
      "text/plain": [
       "array([[ 6, 14],\n",
       "       [ 6, 10]])"
      ]
     },
     "execution_count": 10,
     "metadata": {},
     "output_type": "execute_result"
    }
   ],
   "source": [
    "# From Python 3.5 and later\n",
    "A @ B"
   ]
  },
  {
   "cell_type": "markdown",
   "id": "54190a1b",
   "metadata": {},
   "source": [
    "### Matrix-Vector Multiplication"
   ]
  },
  {
   "cell_type": "markdown",
   "id": "d309b227",
   "metadata": {},
   "source": [
    "**Rule**: The number of columns in the matrix should be equal to the number of items in the vector"
   ]
  },
  {
   "cell_type": "markdown",
   "id": "7560f720",
   "metadata": {},
   "source": [
    "Notation: $C = A \\cdot v$\n",
    "\n",
    "\\begin{equation*}\n",
    "A = \n",
    "\\begin{pmatrix}\n",
    "a_{1,1} & a_{1,2} & a_{1,3} \\\\\n",
    "a_{2,1} & a_{2,2} & a_{2,3}\n",
    "\\end{pmatrix}\n",
    "\\end{equation*}\n",
    "\n",
    "\\begin{equation*}\n",
    "v = \n",
    "\\begin{pmatrix}\n",
    "v_1 \\\\\n",
    "v_2 \\\\\n",
    "v_3 \\\\\n",
    "\\end{pmatrix}\n",
    "\\end{equation*}\n",
    "\n",
    "\\begin{equation*}\n",
    "C = \n",
    "\\begin{pmatrix}\n",
    "(a_{1,1} \\times v_1) + (a_{1,2} \\times v_2) + (a_{1,3} \\times v_3) && (a_{2,1} \\times v_1) + (a_{2,2} \\times v_2) + (a_{2,3} \\times v_3) \\\\\n",
    "\\end{pmatrix}\n",
    "\\end{equation*}"
   ]
  },
  {
   "cell_type": "code",
   "execution_count": 3,
   "id": "a8b53709",
   "metadata": {},
   "outputs": [
    {
     "name": "stdout",
     "output_type": "stream",
     "text": [
      "[[1 2 3]\n",
      " [2 3 4]]\n"
     ]
    }
   ],
   "source": [
    "A = array([[1,2,3], [2,3,4]])\n",
    "print(A)"
   ]
  },
  {
   "cell_type": "code",
   "execution_count": 4,
   "id": "22edaa68",
   "metadata": {},
   "outputs": [
    {
     "name": "stdout",
     "output_type": "stream",
     "text": [
      "[0.75 0.25 0.5 ]\n"
     ]
    }
   ],
   "source": [
    "v = array([0.75,0.25,0.5])\n",
    "print(v)"
   ]
  },
  {
   "cell_type": "code",
   "execution_count": 5,
   "id": "947c7e5c",
   "metadata": {},
   "outputs": [
    {
     "name": "stdout",
     "output_type": "stream",
     "text": [
      "[2.75 4.25]\n"
     ]
    }
   ],
   "source": [
    "C = A.dot(v)\n",
    "print(C)"
   ]
  },
  {
   "cell_type": "code",
   "execution_count": 11,
   "id": "5cab44a7",
   "metadata": {},
   "outputs": [
    {
     "name": "stdout",
     "output_type": "stream",
     "text": [
      "[[1 2 3]\n",
      " [2 3 4]]\n",
      "\n",
      "[0.75 0.25 0.5 ]\n",
      "\n",
      "[2.75 4.25]\n"
     ]
    }
   ],
   "source": [
    "print(A,v,C, sep='\\n\\n')"
   ]
  },
  {
   "cell_type": "markdown",
   "id": "69c5979f",
   "metadata": {},
   "source": [
    "---"
   ]
  },
  {
   "cell_type": "markdown",
   "id": "a2839045",
   "metadata": {},
   "source": [
    "## Types of Matrices"
   ]
  },
  {
   "cell_type": "markdown",
   "id": "2c11d213",
   "metadata": {},
   "source": [
    "### Square Matrix"
   ]
  },
  {
   "cell_type": "markdown",
   "id": "b4569999",
   "metadata": {},
   "source": [
    "The number of rows is equal to the number of columns"
   ]
  },
  {
   "cell_type": "code",
   "execution_count": 17,
   "id": "0cb1ae63",
   "metadata": {},
   "outputs": [
    {
     "name": "stdout",
     "output_type": "stream",
     "text": [
      "[[1 2 3]\n",
      " [1 2 3]\n",
      " [1 2 3]]\n"
     ]
    }
   ],
   "source": [
    "square = array([[1,2,3], [1,2,3], [1,2,3]])\n",
    "print(square)"
   ]
  },
  {
   "cell_type": "markdown",
   "id": "96f8da13",
   "metadata": {},
   "source": [
    "### Symmetric Matrix"
   ]
  },
  {
   "cell_type": "markdown",
   "id": "b57132f9",
   "metadata": {},
   "source": [
    "The top right triangle is equal to the bottom left triangle"
   ]
  },
  {
   "cell_type": "code",
   "execution_count": 18,
   "id": "cb89c5c6",
   "metadata": {},
   "outputs": [
    {
     "name": "stdout",
     "output_type": "stream",
     "text": [
      "[[1 2 3]\n",
      " [2 1 2]\n",
      " [3 2 1]]\n"
     ]
    }
   ],
   "source": [
    "symmetric = array([[1,2,3], [2,1,2], [3,2,1]])\n",
    "print(symmetric)"
   ]
  },
  {
   "cell_type": "markdown",
   "id": "34512388",
   "metadata": {},
   "source": [
    "### Triangular Matrix"
   ]
  },
  {
   "cell_type": "markdown",
   "id": "993f57b1",
   "metadata": {},
   "source": [
    "Values are either at the top right triangle or lower left triange with respect to the main diagonal"
   ]
  },
  {
   "cell_type": "code",
   "execution_count": 19,
   "id": "bde8c638",
   "metadata": {},
   "outputs": [
    {
     "name": "stdout",
     "output_type": "stream",
     "text": [
      "[[1 2 3]\n",
      " [0 2 3]\n",
      " [0 0 3]]\n"
     ]
    }
   ],
   "source": [
    "upper_triangular = array([[1,2,3], [0,2,3], [0,0,3]])\n",
    "print(upper_triangular)"
   ]
  },
  {
   "cell_type": "code",
   "execution_count": 20,
   "id": "80313292",
   "metadata": {},
   "outputs": [
    {
     "name": "stdout",
     "output_type": "stream",
     "text": [
      "[[1 0 0]\n",
      " [1 2 0]\n",
      " [1 2 3]]\n"
     ]
    }
   ],
   "source": [
    "lower_triangular = array([[1,0,0], [1,2,0], [1,2,3]])\n",
    "print(lower_triangular)"
   ]
  },
  {
   "cell_type": "markdown",
   "id": "1795d639",
   "metadata": {},
   "source": [
    "You can generate an upper triangular or lower triangular matrix with numpy"
   ]
  },
  {
   "cell_type": "code",
   "execution_count": 21,
   "id": "a41462b8",
   "metadata": {},
   "outputs": [],
   "source": [
    "from numpy import triu\n",
    "from numpy import tril"
   ]
  },
  {
   "cell_type": "code",
   "execution_count": 22,
   "id": "43587c99",
   "metadata": {},
   "outputs": [
    {
     "name": "stdout",
     "output_type": "stream",
     "text": [
      "[[1 2 3]\n",
      " [1 2 3]\n",
      " [1 2 3]]\n"
     ]
    }
   ],
   "source": [
    "A = array([[1,2,3], [1,2,3], [1,2,3]])\n",
    "print(A)"
   ]
  },
  {
   "cell_type": "code",
   "execution_count": 23,
   "id": "2ff2405b",
   "metadata": {},
   "outputs": [
    {
     "data": {
      "text/plain": [
       "array([[1, 2, 3],\n",
       "       [0, 2, 3],\n",
       "       [0, 0, 3]])"
      ]
     },
     "execution_count": 23,
     "metadata": {},
     "output_type": "execute_result"
    }
   ],
   "source": [
    "triu(A)"
   ]
  },
  {
   "cell_type": "code",
   "execution_count": 24,
   "id": "0ca33370",
   "metadata": {},
   "outputs": [
    {
     "data": {
      "text/plain": [
       "array([[1, 0, 0],\n",
       "       [1, 2, 0],\n",
       "       [1, 2, 3]])"
      ]
     },
     "execution_count": 24,
     "metadata": {},
     "output_type": "execute_result"
    }
   ],
   "source": [
    "tril(A)"
   ]
  },
  {
   "cell_type": "markdown",
   "id": "9e7a272e",
   "metadata": {},
   "source": [
    "### Diagonal Matrix"
   ]
  },
  {
   "cell_type": "markdown",
   "id": "908cb590",
   "metadata": {},
   "source": [
    "Values outside of the main diagonal are zero, essentially making the matrix a vector of the values in the diagonal"
   ]
  },
  {
   "cell_type": "markdown",
   "id": "74719372",
   "metadata": {},
   "source": [
    "A diagonal matrix can be generated in numpy"
   ]
  },
  {
   "cell_type": "code",
   "execution_count": 25,
   "id": "1e5d324e",
   "metadata": {},
   "outputs": [],
   "source": [
    "from numpy import diag"
   ]
  },
  {
   "cell_type": "code",
   "execution_count": 26,
   "id": "879e1f17",
   "metadata": {},
   "outputs": [
    {
     "name": "stdout",
     "output_type": "stream",
     "text": [
      "[[1 2 3]\n",
      " [1 2 3]\n",
      " [1 2 3]]\n"
     ]
    }
   ],
   "source": [
    "M = array([[1,2,3], [1,2,3], [1,2,3]])\n",
    "print(M)"
   ]
  },
  {
   "cell_type": "code",
   "execution_count": 27,
   "id": "abe4d371",
   "metadata": {},
   "outputs": [
    {
     "name": "stdout",
     "output_type": "stream",
     "text": [
      "[1 2 3]\n"
     ]
    }
   ],
   "source": [
    "# Create a vector from the main diagonal\n",
    "d = diag(M)\n",
    "print(d)"
   ]
  },
  {
   "cell_type": "code",
   "execution_count": 28,
   "id": "2783ba02",
   "metadata": {},
   "outputs": [
    {
     "data": {
      "text/plain": [
       "array([[1, 0, 0],\n",
       "       [0, 2, 0],\n",
       "       [0, 0, 3]])"
      ]
     },
     "execution_count": 28,
     "metadata": {},
     "output_type": "execute_result"
    }
   ],
   "source": [
    "# Create a diagonal matrix from the diagonal vector \n",
    "diag(d)"
   ]
  },
  {
   "cell_type": "markdown",
   "id": "aa7da12a",
   "metadata": {},
   "source": [
    "### Identity Matrix"
   ]
  },
  {
   "cell_type": "markdown",
   "id": "283a1fe5",
   "metadata": {},
   "source": [
    "An identity matrix is a matrix that does not change a vector when that vector is multiplied by the matrix"
   ]
  },
  {
   "cell_type": "markdown",
   "id": "c4eaa12b",
   "metadata": {},
   "source": [
    "In simple terms, the identity matrix is a vector of the main diagonal values, where all the values are 1"
   ]
  },
  {
   "cell_type": "code",
   "execution_count": 29,
   "id": "c3442e7b",
   "metadata": {},
   "outputs": [],
   "source": [
    "from numpy import identity"
   ]
  },
  {
   "cell_type": "code",
   "execution_count": 30,
   "id": "76ff8046",
   "metadata": {},
   "outputs": [
    {
     "data": {
      "text/plain": [
       "array([[1., 0., 0.],\n",
       "       [0., 1., 0.],\n",
       "       [0., 0., 1.]])"
      ]
     },
     "execution_count": 30,
     "metadata": {},
     "output_type": "execute_result"
    }
   ],
   "source": [
    "identity(3)"
   ]
  },
  {
   "cell_type": "markdown",
   "id": "abfd241e",
   "metadata": {},
   "source": [
    "### Orthogonal Matrix"
   ]
  },
  {
   "cell_type": "markdown",
   "id": "1b0681c2",
   "metadata": {},
   "source": [
    "A matrix is orthogonal if its dot product with its transpose results to the identity matrix"
   ]
  },
  {
   "cell_type": "markdown",
   "id": "4001a995",
   "metadata": {},
   "source": [
    "All orthogonal matrices are square matrices."
   ]
  },
  {
   "cell_type": "markdown",
   "id": "bec681be",
   "metadata": {},
   "source": [
    "The inverse of an orthogonal matrix is equal to its transpose."
   ]
  },
  {
   "cell_type": "code",
   "execution_count": 31,
   "id": "808f2e28",
   "metadata": {},
   "outputs": [
    {
     "name": "stdout",
     "output_type": "stream",
     "text": [
      "[[ 1  0]\n",
      " [ 0 -1]]\n"
     ]
    }
   ],
   "source": [
    "Q = array([[1, 0], [0, -1]])\n",
    "print(Q)"
   ]
  },
  {
   "cell_type": "code",
   "execution_count": 32,
   "id": "64052b10",
   "metadata": {},
   "outputs": [
    {
     "name": "stdout",
     "output_type": "stream",
     "text": [
      "[[ 1  0]\n",
      " [ 0 -1]]\n"
     ]
    }
   ],
   "source": [
    "V = Q.T\n",
    "print(V)"
   ]
  },
  {
   "cell_type": "code",
   "execution_count": 33,
   "id": "7541a3d4",
   "metadata": {},
   "outputs": [
    {
     "data": {
      "text/plain": [
       "array([[1, 0],\n",
       "       [0, 1]])"
      ]
     },
     "execution_count": 33,
     "metadata": {},
     "output_type": "execute_result"
    }
   ],
   "source": [
    "Q.dot(V)"
   ]
  },
  {
   "cell_type": "code",
   "execution_count": null,
   "id": "cdb0da42",
   "metadata": {},
   "outputs": [],
   "source": []
  },
  {
   "cell_type": "markdown",
   "id": "5de67086",
   "metadata": {},
   "source": [
    "# Matrix Operations"
   ]
  },
  {
   "cell_type": "markdown",
   "id": "997ec001",
   "metadata": {},
   "source": [
    "## Transpose"
   ]
  },
  {
   "cell_type": "markdown",
   "id": "178969eb",
   "metadata": {},
   "source": [
    "Flipping the dimensions of a matrix"
   ]
  },
  {
   "cell_type": "markdown",
   "id": "d11b7f9f",
   "metadata": {},
   "source": [
    "Notation:  $A^T$\n",
    "\n",
    "\\begin{equation*}\n",
    "A = \n",
    "\\begin{pmatrix}\n",
    "a_{1,1} & a_{1,2} & a_{1,3} \\\\\n",
    "a_{2,1} & a_{2,2} & a_{2,3}\n",
    "\\end{pmatrix}\n",
    "\\end{equation*}\n",
    "\n",
    "\\begin{equation*}\n",
    "A^T = \n",
    "\\begin{pmatrix}\n",
    "a_{1,1} & a_{1,2} \\\\\n",
    "a_{2,1} & a_{2,2} \\\\\n",
    "a_{3,1} & a_{3,2}\n",
    "\\end{pmatrix}\n",
    "\\end{equation*}"
   ]
  },
  {
   "cell_type": "code",
   "execution_count": 34,
   "id": "4e4a0f5e",
   "metadata": {},
   "outputs": [
    {
     "name": "stdout",
     "output_type": "stream",
     "text": [
      "[[1 2 3]\n",
      " [3 4 5]]\n"
     ]
    }
   ],
   "source": [
    "A = array([[1,2,3], [3,4,5]])\n",
    "print(A)"
   ]
  },
  {
   "cell_type": "code",
   "execution_count": 35,
   "id": "51783f47",
   "metadata": {},
   "outputs": [
    {
     "name": "stdout",
     "output_type": "stream",
     "text": [
      "[[1 3]\n",
      " [2 4]\n",
      " [3 5]]\n"
     ]
    }
   ],
   "source": [
    "print(A.T)"
   ]
  },
  {
   "cell_type": "markdown",
   "id": "f69d5721",
   "metadata": {},
   "source": [
    "## Inverse"
   ]
  },
  {
   "cell_type": "markdown",
   "id": "2b2349f1",
   "metadata": {},
   "source": [
    "Inversion means finding a matrix that, when multiplied by the original matrix, results to the identity matrix."
   ]
  },
  {
   "cell_type": "markdown",
   "id": "1214001b",
   "metadata": {},
   "source": [
    "A non-invertible matrix is called a singular."
   ]
  },
  {
   "cell_type": "markdown",
   "id": "00dfe47c",
   "metadata": {},
   "source": [
    "Notation:  $A^{-1}$\n",
    "\n",
    "\\begin{equation*}\n",
    "A^{-1} \\cdot A = I\n",
    "\\end{equation*}"
   ]
  },
  {
   "cell_type": "code",
   "execution_count": 36,
   "id": "d2f4ad95",
   "metadata": {},
   "outputs": [],
   "source": [
    "from numpy.linalg import inv"
   ]
  },
  {
   "cell_type": "code",
   "execution_count": 37,
   "id": "041ebf9e",
   "metadata": {},
   "outputs": [
    {
     "name": "stdout",
     "output_type": "stream",
     "text": [
      "[[1 2]\n",
      " [3 4]]\n"
     ]
    }
   ],
   "source": [
    "A = array([[1,2], [3,4]])\n",
    "print(A)"
   ]
  },
  {
   "cell_type": "code",
   "execution_count": 38,
   "id": "ae750f60",
   "metadata": {},
   "outputs": [
    {
     "name": "stdout",
     "output_type": "stream",
     "text": [
      "[[-2.   1. ]\n",
      " [ 1.5 -0.5]]\n"
     ]
    }
   ],
   "source": [
    "I = inv(A)\n",
    "print(I)"
   ]
  },
  {
   "cell_type": "code",
   "execution_count": 39,
   "id": "f67a5b5e",
   "metadata": {},
   "outputs": [
    {
     "name": "stdout",
     "output_type": "stream",
     "text": [
      "[[1.00000000e+00 1.11022302e-16]\n",
      " [0.00000000e+00 1.00000000e+00]]\n"
     ]
    }
   ],
   "source": [
    "M = A.dot(I)\n",
    "print(M)"
   ]
  },
  {
   "cell_type": "markdown",
   "id": "f30b3616",
   "metadata": {},
   "source": [
    "## Trace"
   ]
  },
  {
   "cell_type": "markdown",
   "id": "e81e6112",
   "metadata": {},
   "source": [
    "A trace is the sum of the values in the main diagonal of a square matrix"
   ]
  },
  {
   "cell_type": "markdown",
   "id": "43978d77",
   "metadata": {},
   "source": [
    "Notation:  $tr(A)$\n",
    "\n",
    "\\begin{equation*}\n",
    "A = \n",
    "\\begin{pmatrix}\n",
    "a_{1,1} & a_{1,2} & a_{1,3} \\\\\n",
    "a_{2,1} & a_{2,2} & a_{2,3} \\\\\n",
    "a_{3,1} & a_{3,2} & a_{3,3}\n",
    "\\end{pmatrix}\n",
    "\\end{equation*}\n",
    "\n",
    "\\begin{equation*}\n",
    "tr(A) = a_{1,1} + a_{2,2} + a_{3,3} \\\\\n",
    "\\end{equation*}"
   ]
  },
  {
   "cell_type": "code",
   "execution_count": 40,
   "id": "5924f780",
   "metadata": {},
   "outputs": [],
   "source": [
    "from numpy import trace"
   ]
  },
  {
   "cell_type": "code",
   "execution_count": 41,
   "id": "fd3a4488",
   "metadata": {},
   "outputs": [
    {
     "name": "stdout",
     "output_type": "stream",
     "text": [
      "[[1 2 3]\n",
      " [3 4 5]\n",
      " [6 7 8]]\n"
     ]
    }
   ],
   "source": [
    "A = array([[1,2,3], [3,4,5], [6,7,8]])\n",
    "print(A)"
   ]
  },
  {
   "cell_type": "code",
   "execution_count": 42,
   "id": "44cbf36d",
   "metadata": {},
   "outputs": [
    {
     "name": "stdout",
     "output_type": "stream",
     "text": [
      "13\n"
     ]
    }
   ],
   "source": [
    "B = trace(A)\n",
    "print(B)"
   ]
  },
  {
   "cell_type": "markdown",
   "id": "69507f67",
   "metadata": {},
   "source": [
    "## Determinant"
   ]
  },
  {
   "cell_type": "markdown",
   "id": "91a78961",
   "metadata": {},
   "source": [
    "The determinant is the scalar representation of the volume of the matrix. It is the product of all the eigenvalues of the matrix. In other words, it describes the way the matrix will scale another matrix when they are multiplied together."
   ]
  },
  {
   "cell_type": "markdown",
   "id": "0ec2693c",
   "metadata": {},
   "source": [
    "A zero determinant means that the matrix is not invertible."
   ]
  },
  {
   "cell_type": "code",
   "execution_count": 43,
   "id": "4f5a91d0",
   "metadata": {},
   "outputs": [],
   "source": [
    "from numpy.linalg import det"
   ]
  },
  {
   "cell_type": "code",
   "execution_count": 44,
   "id": "71e8afce",
   "metadata": {},
   "outputs": [
    {
     "name": "stdout",
     "output_type": "stream",
     "text": [
      "[[1 2 3]\n",
      " [4 5 6]\n",
      " [7 8 9]]\n"
     ]
    }
   ],
   "source": [
    "A = array([[1,2,3], [4,5,6], [7,8,9]])\n",
    "print(A)"
   ]
  },
  {
   "cell_type": "code",
   "execution_count": 45,
   "id": "58719161",
   "metadata": {},
   "outputs": [
    {
     "name": "stdout",
     "output_type": "stream",
     "text": [
      "-9.51619735392994e-16\n"
     ]
    }
   ],
   "source": [
    "d = det(A)\n",
    "print(d)"
   ]
  },
  {
   "cell_type": "markdown",
   "id": "ba86918a",
   "metadata": {},
   "source": [
    "## Rank"
   ]
  },
  {
   "cell_type": "markdown",
   "id": "bd120a76",
   "metadata": {},
   "source": [
    "The rank is the number of linearly independent rows and columns in a matrix"
   ]
  },
  {
   "cell_type": "code",
   "execution_count": 46,
   "id": "8337fa57",
   "metadata": {},
   "outputs": [],
   "source": [
    "from numpy.linalg import matrix_rank"
   ]
  },
  {
   "cell_type": "code",
   "execution_count": 47,
   "id": "4b370856",
   "metadata": {},
   "outputs": [
    {
     "data": {
      "text/plain": [
       "1"
      ]
     },
     "execution_count": 47,
     "metadata": {},
     "output_type": "execute_result"
    }
   ],
   "source": [
    "A = array([[1,2,3], [2,4,6]])\n",
    "matrix_rank(A)"
   ]
  },
  {
   "cell_type": "code",
   "execution_count": 48,
   "id": "26c99cb9",
   "metadata": {},
   "outputs": [
    {
     "data": {
      "text/plain": [
       "2"
      ]
     },
     "execution_count": 48,
     "metadata": {},
     "output_type": "execute_result"
    }
   ],
   "source": [
    "B = array([[1,2], [3,4]])\n",
    "matrix_rank(B)"
   ]
  },
  {
   "cell_type": "code",
   "execution_count": 49,
   "id": "fae418ad",
   "metadata": {},
   "outputs": [
    {
     "data": {
      "text/plain": [
       "0"
      ]
     },
     "execution_count": 49,
     "metadata": {},
     "output_type": "execute_result"
    }
   ],
   "source": [
    "C = array([[0,0,0]])\n",
    "matrix_rank(C)"
   ]
  },
  {
   "cell_type": "markdown",
   "id": "cdcb6095",
   "metadata": {},
   "source": [
    "## Calculate the Determinant"
   ]
  },
  {
   "cell_type": "markdown",
   "id": "fb10a896",
   "metadata": {},
   "source": [
    "The following code follows the Laplace Expansion, wherein to compute for the determinant of an nxn matrix, we first compute for the determinants of its sub-matrices. The determinant of a sub-matrix is called a _minor_."
   ]
  },
  {
   "cell_type": "code",
   "execution_count": 3,
   "id": "0c33315d",
   "metadata": {},
   "outputs": [],
   "source": [
    "import copy\n",
    "import numpy as np\n",
    "\n",
    "def get_determinant(matrix):\n",
    "    if matrix.shape[0] == 1:\n",
    "        return matrix.shape[0]\n",
    "    elif matrix.shape[0] == 2:\n",
    "        return (matrix[0][0] * matrix[1][1]) - (matrix[0][1] * matrix[1][0])\n",
    "    else:\n",
    "        determinant = 0\n",
    "        \n",
    "        for col in range(matrix.shape[1]):\n",
    "            new_matrix = copy.deepcopy(matrix)\n",
    "            new_matrix = np.delete(new_matrix, 0, 0)     # remove the first row (axis=0)\n",
    "            print('m1\\n', matrix, '\\nnm1\\n', new_matrix)\n",
    "            new_matrix = np.delete(new_matrix, col, 1)   # remove the col-th column (axis=1)\n",
    "            print('m2\\n', matrix, '\\nnm2\\n', new_matrix)\n",
    "\n",
    "\n",
    "#             print(matrix[0][col], '\\n' , new_matrix)\n",
    "            cofactor = ((-1)**col)\n",
    "            print('col: ', col, ' , cofactor: ', cofactor)\n",
    "            \n",
    "            determinant += cofactor * matrix[0][col] * get_determinant(new_matrix)\n",
    "            \n",
    "        return determinant"
   ]
  },
  {
   "cell_type": "code",
   "execution_count": 115,
   "id": "5b544a0e",
   "metadata": {},
   "outputs": [
    {
     "data": {
      "text/plain": [
       "1"
      ]
     },
     "execution_count": 115,
     "metadata": {},
     "output_type": "execute_result"
    }
   ],
   "source": [
    "(-1)**0"
   ]
  },
  {
   "cell_type": "code",
   "execution_count": 116,
   "id": "4450ea7e",
   "metadata": {},
   "outputs": [
    {
     "data": {
      "text/plain": [
       "1"
      ]
     },
     "execution_count": 116,
     "metadata": {},
     "output_type": "execute_result"
    }
   ],
   "source": [
    "Z = array([[2,3]])\n",
    "get_determinant(Z)"
   ]
  },
  {
   "cell_type": "code",
   "execution_count": 117,
   "id": "29ce0a99",
   "metadata": {},
   "outputs": [
    {
     "name": "stdout",
     "output_type": "stream",
     "text": [
      "[[1 2]\n",
      " [3 4]]\n"
     ]
    },
    {
     "data": {
      "text/plain": [
       "-2"
      ]
     },
     "execution_count": 117,
     "metadata": {},
     "output_type": "execute_result"
    }
   ],
   "source": [
    "B = array([[1,2],[3,4]])\n",
    "print(B)\n",
    "get_determinant(B)"
   ]
  },
  {
   "cell_type": "code",
   "execution_count": 118,
   "id": "86beab3b",
   "metadata": {},
   "outputs": [
    {
     "name": "stdout",
     "output_type": "stream",
     "text": [
      "[[1 2 3]\n",
      " [4 5 6]\n",
      " [7 8 9]]\n",
      "m1\n",
      " [[1 2 3]\n",
      " [4 5 6]\n",
      " [7 8 9]] \n",
      "nm1\n",
      " [[4 5 6]\n",
      " [7 8 9]]\n",
      "m2\n",
      " [[1 2 3]\n",
      " [4 5 6]\n",
      " [7 8 9]] \n",
      "nm2\n",
      " [[5 6]\n",
      " [8 9]]\n",
      "col:  0  , cofactor:  1\n",
      "m1\n",
      " [[1 2 3]\n",
      " [4 5 6]\n",
      " [7 8 9]] \n",
      "nm1\n",
      " [[4 5 6]\n",
      " [7 8 9]]\n",
      "m2\n",
      " [[1 2 3]\n",
      " [4 5 6]\n",
      " [7 8 9]] \n",
      "nm2\n",
      " [[4 6]\n",
      " [7 9]]\n",
      "col:  1  , cofactor:  -1\n",
      "m1\n",
      " [[1 2 3]\n",
      " [4 5 6]\n",
      " [7 8 9]] \n",
      "nm1\n",
      " [[4 5 6]\n",
      " [7 8 9]]\n",
      "m2\n",
      " [[1 2 3]\n",
      " [4 5 6]\n",
      " [7 8 9]] \n",
      "nm2\n",
      " [[4 5]\n",
      " [7 8]]\n",
      "col:  2  , cofactor:  1\n"
     ]
    },
    {
     "data": {
      "text/plain": [
       "0"
      ]
     },
     "execution_count": 118,
     "metadata": {},
     "output_type": "execute_result"
    }
   ],
   "source": [
    "C = array([[1,2,3], [4,5,6], [7,8,9]])\n",
    "print(C)\n",
    "get_determinant(C)"
   ]
  },
  {
   "cell_type": "code",
   "execution_count": 119,
   "id": "0abcb967",
   "metadata": {},
   "outputs": [
    {
     "name": "stdout",
     "output_type": "stream",
     "text": [
      "[[1 2 3 4]\n",
      " [4 3 5 6]\n",
      " [8 4 2 1]\n",
      " [3 2 4 1]]\n",
      "m1\n",
      " [[1 2 3 4]\n",
      " [4 3 5 6]\n",
      " [8 4 2 1]\n",
      " [3 2 4 1]] \n",
      "nm1\n",
      " [[4 3 5 6]\n",
      " [8 4 2 1]\n",
      " [3 2 4 1]]\n",
      "m2\n",
      " [[1 2 3 4]\n",
      " [4 3 5 6]\n",
      " [8 4 2 1]\n",
      " [3 2 4 1]] \n",
      "nm2\n",
      " [[3 5 6]\n",
      " [4 2 1]\n",
      " [2 4 1]]\n",
      "col:  0  , cofactor:  1\n",
      "m1\n",
      " [[3 5 6]\n",
      " [4 2 1]\n",
      " [2 4 1]] \n",
      "nm1\n",
      " [[4 2 1]\n",
      " [2 4 1]]\n",
      "m2\n",
      " [[3 5 6]\n",
      " [4 2 1]\n",
      " [2 4 1]] \n",
      "nm2\n",
      " [[2 1]\n",
      " [4 1]]\n",
      "col:  0  , cofactor:  1\n",
      "m1\n",
      " [[3 5 6]\n",
      " [4 2 1]\n",
      " [2 4 1]] \n",
      "nm1\n",
      " [[4 2 1]\n",
      " [2 4 1]]\n",
      "m2\n",
      " [[3 5 6]\n",
      " [4 2 1]\n",
      " [2 4 1]] \n",
      "nm2\n",
      " [[4 1]\n",
      " [2 1]]\n",
      "col:  1  , cofactor:  -1\n",
      "m1\n",
      " [[3 5 6]\n",
      " [4 2 1]\n",
      " [2 4 1]] \n",
      "nm1\n",
      " [[4 2 1]\n",
      " [2 4 1]]\n",
      "m2\n",
      " [[3 5 6]\n",
      " [4 2 1]\n",
      " [2 4 1]] \n",
      "nm2\n",
      " [[4 2]\n",
      " [2 4]]\n",
      "col:  2  , cofactor:  1\n",
      "m1\n",
      " [[1 2 3 4]\n",
      " [4 3 5 6]\n",
      " [8 4 2 1]\n",
      " [3 2 4 1]] \n",
      "nm1\n",
      " [[4 3 5 6]\n",
      " [8 4 2 1]\n",
      " [3 2 4 1]]\n",
      "m2\n",
      " [[1 2 3 4]\n",
      " [4 3 5 6]\n",
      " [8 4 2 1]\n",
      " [3 2 4 1]] \n",
      "nm2\n",
      " [[4 5 6]\n",
      " [8 2 1]\n",
      " [3 4 1]]\n",
      "col:  1  , cofactor:  -1\n",
      "m1\n",
      " [[4 5 6]\n",
      " [8 2 1]\n",
      " [3 4 1]] \n",
      "nm1\n",
      " [[8 2 1]\n",
      " [3 4 1]]\n",
      "m2\n",
      " [[4 5 6]\n",
      " [8 2 1]\n",
      " [3 4 1]] \n",
      "nm2\n",
      " [[2 1]\n",
      " [4 1]]\n",
      "col:  0  , cofactor:  1\n",
      "m1\n",
      " [[4 5 6]\n",
      " [8 2 1]\n",
      " [3 4 1]] \n",
      "nm1\n",
      " [[8 2 1]\n",
      " [3 4 1]]\n",
      "m2\n",
      " [[4 5 6]\n",
      " [8 2 1]\n",
      " [3 4 1]] \n",
      "nm2\n",
      " [[8 1]\n",
      " [3 1]]\n",
      "col:  1  , cofactor:  -1\n",
      "m1\n",
      " [[4 5 6]\n",
      " [8 2 1]\n",
      " [3 4 1]] \n",
      "nm1\n",
      " [[8 2 1]\n",
      " [3 4 1]]\n",
      "m2\n",
      " [[4 5 6]\n",
      " [8 2 1]\n",
      " [3 4 1]] \n",
      "nm2\n",
      " [[8 2]\n",
      " [3 4]]\n",
      "col:  2  , cofactor:  1\n",
      "m1\n",
      " [[1 2 3 4]\n",
      " [4 3 5 6]\n",
      " [8 4 2 1]\n",
      " [3 2 4 1]] \n",
      "nm1\n",
      " [[4 3 5 6]\n",
      " [8 4 2 1]\n",
      " [3 2 4 1]]\n",
      "m2\n",
      " [[1 2 3 4]\n",
      " [4 3 5 6]\n",
      " [8 4 2 1]\n",
      " [3 2 4 1]] \n",
      "nm2\n",
      " [[4 3 6]\n",
      " [8 4 1]\n",
      " [3 2 1]]\n",
      "col:  2  , cofactor:  1\n",
      "m1\n",
      " [[4 3 6]\n",
      " [8 4 1]\n",
      " [3 2 1]] \n",
      "nm1\n",
      " [[8 4 1]\n",
      " [3 2 1]]\n",
      "m2\n",
      " [[4 3 6]\n",
      " [8 4 1]\n",
      " [3 2 1]] \n",
      "nm2\n",
      " [[4 1]\n",
      " [2 1]]\n",
      "col:  0  , cofactor:  1\n",
      "m1\n",
      " [[4 3 6]\n",
      " [8 4 1]\n",
      " [3 2 1]] \n",
      "nm1\n",
      " [[8 4 1]\n",
      " [3 2 1]]\n",
      "m2\n",
      " [[4 3 6]\n",
      " [8 4 1]\n",
      " [3 2 1]] \n",
      "nm2\n",
      " [[8 1]\n",
      " [3 1]]\n",
      "col:  1  , cofactor:  -1\n",
      "m1\n",
      " [[4 3 6]\n",
      " [8 4 1]\n",
      " [3 2 1]] \n",
      "nm1\n",
      " [[8 4 1]\n",
      " [3 2 1]]\n",
      "m2\n",
      " [[4 3 6]\n",
      " [8 4 1]\n",
      " [3 2 1]] \n",
      "nm2\n",
      " [[8 4]\n",
      " [3 2]]\n",
      "col:  2  , cofactor:  1\n",
      "m1\n",
      " [[1 2 3 4]\n",
      " [4 3 5 6]\n",
      " [8 4 2 1]\n",
      " [3 2 4 1]] \n",
      "nm1\n",
      " [[4 3 5 6]\n",
      " [8 4 2 1]\n",
      " [3 2 4 1]]\n",
      "m2\n",
      " [[1 2 3 4]\n",
      " [4 3 5 6]\n",
      " [8 4 2 1]\n",
      " [3 2 4 1]] \n",
      "nm2\n",
      " [[4 3 5]\n",
      " [8 4 2]\n",
      " [3 2 4]]\n",
      "col:  3  , cofactor:  -1\n",
      "m1\n",
      " [[4 3 5]\n",
      " [8 4 2]\n",
      " [3 2 4]] \n",
      "nm1\n",
      " [[8 4 2]\n",
      " [3 2 4]]\n",
      "m2\n",
      " [[4 3 5]\n",
      " [8 4 2]\n",
      " [3 2 4]] \n",
      "nm2\n",
      " [[4 2]\n",
      " [2 4]]\n",
      "col:  0  , cofactor:  1\n",
      "m1\n",
      " [[4 3 5]\n",
      " [8 4 2]\n",
      " [3 2 4]] \n",
      "nm1\n",
      " [[8 4 2]\n",
      " [3 2 4]]\n",
      "m2\n",
      " [[4 3 5]\n",
      " [8 4 2]\n",
      " [3 2 4]] \n",
      "nm2\n",
      " [[8 2]\n",
      " [3 4]]\n",
      "col:  1  , cofactor:  -1\n",
      "m1\n",
      " [[4 3 5]\n",
      " [8 4 2]\n",
      " [3 2 4]] \n",
      "nm1\n",
      " [[8 4 2]\n",
      " [3 2 4]]\n",
      "m2\n",
      " [[4 3 5]\n",
      " [8 4 2]\n",
      " [3 2 4]] \n",
      "nm2\n",
      " [[8 4]\n",
      " [3 2]]\n",
      "col:  2  , cofactor:  1\n"
     ]
    },
    {
     "data": {
      "text/plain": [
       "-99"
      ]
     },
     "execution_count": 119,
     "metadata": {},
     "output_type": "execute_result"
    }
   ],
   "source": [
    "D = array([[1,2,3,4],[4,3,5,6],[8,4,2,1],[3,2,4,1]])\n",
    "print(D)\n",
    "get_determinant(D)"
   ]
  },
  {
   "cell_type": "code",
   "execution_count": 54,
   "id": "bc8387b5",
   "metadata": {},
   "outputs": [
    {
     "name": "stdout",
     "output_type": "stream",
     "text": [
      "[[ 1  3  5  7  9]\n",
      " [ 4  6  3  7  5]\n",
      " [ 5 10  8  3  1]\n",
      " [ 1  5  3  7  6]\n",
      " [ 8  1  7  5  8]]\n",
      "1 \n",
      " [[ 6  3  7  5]\n",
      " [10  8  3  1]\n",
      " [ 5  3  7  6]\n",
      " [ 1  7  5  8]]\n",
      "6 \n",
      " [[8 3 1]\n",
      " [3 7 6]\n",
      " [7 5 8]]\n",
      "8 \n",
      " [[7 6]\n",
      " [5 8]]\n",
      "3 \n",
      " [[3 6]\n",
      " [7 8]]\n",
      "1 \n",
      " [[3 7]\n",
      " [7 5]]\n",
      "3 \n",
      " [[10  3  1]\n",
      " [ 5  7  6]\n",
      " [ 1  5  8]]\n",
      "10 \n",
      " [[7 6]\n",
      " [5 8]]\n",
      "3 \n",
      " [[5 6]\n",
      " [1 8]]\n",
      "1 \n",
      " [[5 7]\n",
      " [1 5]]\n",
      "7 \n",
      " [[10  8  1]\n",
      " [ 5  3  6]\n",
      " [ 1  7  8]]\n",
      "10 \n",
      " [[3 6]\n",
      " [7 8]]\n",
      "8 \n",
      " [[5 6]\n",
      " [1 8]]\n",
      "1 \n",
      " [[5 3]\n",
      " [1 7]]\n",
      "5 \n",
      " [[10  8  3]\n",
      " [ 5  3  7]\n",
      " [ 1  7  5]]\n",
      "10 \n",
      " [[3 7]\n",
      " [7 5]]\n",
      "8 \n",
      " [[5 7]\n",
      " [1 5]]\n",
      "3 \n",
      " [[5 3]\n",
      " [1 7]]\n",
      "3 \n",
      " [[4 3 7 5]\n",
      " [5 8 3 1]\n",
      " [1 3 7 6]\n",
      " [8 7 5 8]]\n",
      "4 \n",
      " [[8 3 1]\n",
      " [3 7 6]\n",
      " [7 5 8]]\n",
      "8 \n",
      " [[7 6]\n",
      " [5 8]]\n",
      "3 \n",
      " [[3 6]\n",
      " [7 8]]\n",
      "1 \n",
      " [[3 7]\n",
      " [7 5]]\n",
      "3 \n",
      " [[5 3 1]\n",
      " [1 7 6]\n",
      " [8 5 8]]\n",
      "5 \n",
      " [[7 6]\n",
      " [5 8]]\n",
      "3 \n",
      " [[1 6]\n",
      " [8 8]]\n",
      "1 \n",
      " [[1 7]\n",
      " [8 5]]\n",
      "7 \n",
      " [[5 8 1]\n",
      " [1 3 6]\n",
      " [8 7 8]]\n",
      "5 \n",
      " [[3 6]\n",
      " [7 8]]\n",
      "8 \n",
      " [[1 6]\n",
      " [8 8]]\n",
      "1 \n",
      " [[1 3]\n",
      " [8 7]]\n",
      "5 \n",
      " [[5 8 3]\n",
      " [1 3 7]\n",
      " [8 7 5]]\n",
      "5 \n",
      " [[3 7]\n",
      " [7 5]]\n",
      "8 \n",
      " [[1 7]\n",
      " [8 5]]\n",
      "3 \n",
      " [[1 3]\n",
      " [8 7]]\n",
      "5 \n",
      " [[ 4  6  7  5]\n",
      " [ 5 10  3  1]\n",
      " [ 1  5  7  6]\n",
      " [ 8  1  5  8]]\n",
      "4 \n",
      " [[10  3  1]\n",
      " [ 5  7  6]\n",
      " [ 1  5  8]]\n",
      "10 \n",
      " [[7 6]\n",
      " [5 8]]\n",
      "3 \n",
      " [[5 6]\n",
      " [1 8]]\n",
      "1 \n",
      " [[5 7]\n",
      " [1 5]]\n",
      "6 \n",
      " [[5 3 1]\n",
      " [1 7 6]\n",
      " [8 5 8]]\n",
      "5 \n",
      " [[7 6]\n",
      " [5 8]]\n",
      "3 \n",
      " [[1 6]\n",
      " [8 8]]\n",
      "1 \n",
      " [[1 7]\n",
      " [8 5]]\n",
      "7 \n",
      " [[ 5 10  1]\n",
      " [ 1  5  6]\n",
      " [ 8  1  8]]\n",
      "5 \n",
      " [[5 6]\n",
      " [1 8]]\n",
      "10 \n",
      " [[1 6]\n",
      " [8 8]]\n",
      "1 \n",
      " [[1 5]\n",
      " [8 1]]\n",
      "5 \n",
      " [[ 5 10  3]\n",
      " [ 1  5  7]\n",
      " [ 8  1  5]]\n",
      "5 \n",
      " [[5 7]\n",
      " [1 5]]\n",
      "10 \n",
      " [[1 7]\n",
      " [8 5]]\n",
      "3 \n",
      " [[1 5]\n",
      " [8 1]]\n",
      "7 \n",
      " [[ 4  6  3  5]\n",
      " [ 5 10  8  1]\n",
      " [ 1  5  3  6]\n",
      " [ 8  1  7  8]]\n",
      "4 \n",
      " [[10  8  1]\n",
      " [ 5  3  6]\n",
      " [ 1  7  8]]\n",
      "10 \n",
      " [[3 6]\n",
      " [7 8]]\n",
      "8 \n",
      " [[5 6]\n",
      " [1 8]]\n",
      "1 \n",
      " [[5 3]\n",
      " [1 7]]\n",
      "6 \n",
      " [[5 8 1]\n",
      " [1 3 6]\n",
      " [8 7 8]]\n",
      "5 \n",
      " [[3 6]\n",
      " [7 8]]\n",
      "8 \n",
      " [[1 6]\n",
      " [8 8]]\n",
      "1 \n",
      " [[1 3]\n",
      " [8 7]]\n",
      "3 \n",
      " [[ 5 10  1]\n",
      " [ 1  5  6]\n",
      " [ 8  1  8]]\n",
      "5 \n",
      " [[5 6]\n",
      " [1 8]]\n",
      "10 \n",
      " [[1 6]\n",
      " [8 8]]\n",
      "1 \n",
      " [[1 5]\n",
      " [8 1]]\n",
      "5 \n",
      " [[ 5 10  8]\n",
      " [ 1  5  3]\n",
      " [ 8  1  7]]\n",
      "5 \n",
      " [[5 3]\n",
      " [1 7]]\n",
      "10 \n",
      " [[1 3]\n",
      " [8 7]]\n",
      "8 \n",
      " [[1 5]\n",
      " [8 1]]\n",
      "9 \n",
      " [[ 4  6  3  7]\n",
      " [ 5 10  8  3]\n",
      " [ 1  5  3  7]\n",
      " [ 8  1  7  5]]\n",
      "4 \n",
      " [[10  8  3]\n",
      " [ 5  3  7]\n",
      " [ 1  7  5]]\n",
      "10 \n",
      " [[3 7]\n",
      " [7 5]]\n",
      "8 \n",
      " [[5 7]\n",
      " [1 5]]\n",
      "3 \n",
      " [[5 3]\n",
      " [1 7]]\n",
      "6 \n",
      " [[5 8 3]\n",
      " [1 3 7]\n",
      " [8 7 5]]\n",
      "5 \n",
      " [[3 7]\n",
      " [7 5]]\n",
      "8 \n",
      " [[1 7]\n",
      " [8 5]]\n",
      "3 \n",
      " [[1 3]\n",
      " [8 7]]\n",
      "3 \n",
      " [[ 5 10  3]\n",
      " [ 1  5  7]\n",
      " [ 8  1  5]]\n",
      "5 \n",
      " [[5 7]\n",
      " [1 5]]\n",
      "10 \n",
      " [[1 7]\n",
      " [8 5]]\n",
      "3 \n",
      " [[1 5]\n",
      " [8 1]]\n",
      "7 \n",
      " [[ 5 10  8]\n",
      " [ 1  5  3]\n",
      " [ 8  1  7]]\n",
      "5 \n",
      " [[5 3]\n",
      " [1 7]]\n",
      "10 \n",
      " [[1 3]\n",
      " [8 7]]\n",
      "8 \n",
      " [[1 5]\n",
      " [8 1]]\n"
     ]
    },
    {
     "data": {
      "text/plain": [
       "-687"
      ]
     },
     "execution_count": 54,
     "metadata": {},
     "output_type": "execute_result"
    }
   ],
   "source": [
    "E = array([[1,3,5,7,9],[4,6,3,7,5],[5,10,8,3,1],[1,5,3,7,6],[8,1,7,5,8]])\n",
    "print(E)\n",
    "get_determinant(E)\n"
   ]
  },
  {
   "cell_type": "code",
   "execution_count": null,
   "id": "b534a700",
   "metadata": {},
   "outputs": [],
   "source": []
  },
  {
   "cell_type": "code",
   "execution_count": 55,
   "id": "9cdb6d8f",
   "metadata": {},
   "outputs": [],
   "source": [
    "import copy\n",
    "def new_matrix(a,i):#FUNCTION TO FIND THE NEW MATRIX\n",
    "    arr = copy.deepcopy(a) \n",
    "    if len(arr) == 2:\n",
    "\n",
    "        return arr\n",
    "    else:\n",
    "        arr.pop(0)\n",
    "        print('arr: ', arr)\n",
    "        for j in arr:\n",
    "            j.pop(i)\n",
    "\n",
    "        print('new_matrix: ', arr)\n",
    "        return arr\n",
    "    \n",
    "def determinant(a):#FUNCTION TO FIND THE DETERMINANT OF A MATRIX\n",
    "    if len(a) == 1:\n",
    "        pro = a[0]\n",
    "        return pro\n",
    "    \n",
    "    elif len(a) == 2:\n",
    "            pro = a[0][0]*a[1][1] - a[1][0]*a[0][1]\n",
    "            return pro\n",
    "\n",
    "    else:\n",
    "        pro = 0\n",
    "        for i in range(len(a[0])):\n",
    "            pro += ((-1)**i)*a[0][i]*determinant(new_matrix(a,i))    \n",
    "        return pro         "
   ]
  },
  {
   "cell_type": "code",
   "execution_count": 56,
   "id": "fa55f1b3",
   "metadata": {},
   "outputs": [
    {
     "data": {
      "text/plain": [
       "2"
      ]
     },
     "execution_count": 56,
     "metadata": {},
     "output_type": "execute_result"
    }
   ],
   "source": [
    "A = [2]\n",
    "determinant(A)"
   ]
  },
  {
   "cell_type": "code",
   "execution_count": 57,
   "id": "0539e2d3",
   "metadata": {},
   "outputs": [
    {
     "data": {
      "text/plain": [
       "-2"
      ]
     },
     "execution_count": 57,
     "metadata": {},
     "output_type": "execute_result"
    }
   ],
   "source": [
    "B = [[1,2],[3,4]]\n",
    "determinant(B)"
   ]
  },
  {
   "cell_type": "code",
   "execution_count": 58,
   "id": "841b5f03",
   "metadata": {},
   "outputs": [
    {
     "name": "stdout",
     "output_type": "stream",
     "text": [
      "arr:  [[4, 5, 6], [7, 8, 9]]\n",
      "new_matrix:  [[5, 6], [8, 9]]\n",
      "arr:  [[4, 5, 6], [7, 8, 9]]\n",
      "new_matrix:  [[4, 6], [7, 9]]\n",
      "arr:  [[4, 5, 6], [7, 8, 9]]\n",
      "new_matrix:  [[4, 5], [7, 8]]\n"
     ]
    },
    {
     "data": {
      "text/plain": [
       "0"
      ]
     },
     "execution_count": 58,
     "metadata": {},
     "output_type": "execute_result"
    }
   ],
   "source": [
    "C = [[1,2,3],[4,5,6], [7,8,9]]\n",
    "determinant(C)"
   ]
  },
  {
   "cell_type": "code",
   "execution_count": null,
   "id": "39df9c01",
   "metadata": {},
   "outputs": [],
   "source": []
  },
  {
   "cell_type": "code",
   "execution_count": null,
   "id": "7bd24fc1",
   "metadata": {},
   "outputs": [],
   "source": []
  },
  {
   "cell_type": "code",
   "execution_count": null,
   "id": "3242f00a",
   "metadata": {},
   "outputs": [],
   "source": []
  },
  {
   "cell_type": "code",
   "execution_count": null,
   "id": "11950225",
   "metadata": {},
   "outputs": [],
   "source": []
  }
 ],
 "metadata": {
  "kernelspec": {
   "display_name": "my-nlp-projects",
   "language": "python",
   "name": "my-nlp-projects"
  },
  "language_info": {
   "codemirror_mode": {
    "name": "ipython",
    "version": 3
   },
   "file_extension": ".py",
   "mimetype": "text/x-python",
   "name": "python",
   "nbconvert_exporter": "python",
   "pygments_lexer": "ipython3",
   "version": "3.8.8"
  }
 },
 "nbformat": 4,
 "nbformat_minor": 5
}
